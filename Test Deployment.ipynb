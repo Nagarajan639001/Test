{
 "cells": [
  {
   "cell_type": "code",
   "execution_count": 1,
   "id": "8c3ae011-9b10-49d4-a5a6-0ed44fc7995e",
   "metadata": {},
   "outputs": [],
   "source": [
    "import pickle\n",
    "import pandas as pd"
   ]
  },
  {
   "cell_type": "code",
   "execution_count": 2,
   "id": "505ee7b7-bbb4-41c7-b263-24c133b1f52e",
   "metadata": {},
   "outputs": [],
   "source": [
    "filename=\"Finalized_model_Gridsearchcv_Assignment_Classification.sav\""
   ]
  },
  {
   "cell_type": "code",
   "execution_count": 3,
   "id": "c857424d-91df-4d36-874a-27a0d36599d1",
   "metadata": {},
   "outputs": [],
   "source": [
    "sc,scy=pickle.load(open(\"Finalized_model_Gridsearchcv_Assignment_Classification.sav\",'rb'))\n",
    "\n"
   ]
  },
  {
   "cell_type": "code",
   "execution_count": 4,
   "id": "afb69801-8099-4322-93f3-84e3416c637d",
   "metadata": {
    "scrolled": true
   },
   "outputs": [
    {
     "data": {
      "text/plain": [
       "(StandardScaler(), StandardScaler())"
      ]
     },
     "execution_count": 4,
     "metadata": {},
     "output_type": "execute_result"
    }
   ],
   "source": [
    "sc,scy"
   ]
  },
  {
   "cell_type": "code",
   "execution_count": 5,
   "id": "6cff2fd9-ee8b-4dd7-ab66-2c15875b758a",
   "metadata": {},
   "outputs": [
    {
     "name": "stderr",
     "output_type": "stream",
     "text": [
      "C:\\Anaconda3\\Lib\\site-packages\\sklearn\\base.py:493: UserWarning: X does not have valid feature names, but StandardScaler was fitted with feature names\n",
      "  warnings.warn(\n"
     ]
    }
   ],
   "source": [
    "filename2=\"Finalized_model_Gridsearchcv_Assignment_Classification_svr.sav\"\n",
    "preinput=sc.transform([[2.0,76.46,3.0,0,148.112,57.482,3.077,137.5287,4.6272,12.518,38.868,8408.191,4.705,0,1,0,0,1,0,0,0,0,0,0,1,1,0]])\n",
    "#grid=pickle.load(open(\"Finalized_model_Gridsearchcv_Assignment_Classification_svr.sav\",'rb'))\n",
    "#Future_Prediction=sc, scy.predict(preinput)"
   ]
  },
  {
   "cell_type": "code",
   "execution_count": 6,
   "id": "964e6b5e-b2a4-4bdc-9d1a-b491702f4d20",
   "metadata": {},
   "outputs": [
    {
     "data": {
      "text/plain": [
       "array([[-3.06588549, -0.01150349,  1.75234707, -0.36409637, -0.01959219,\n",
       "        -0.05023218, -0.02117951, -0.00417873,  0.02308434,  0.01637831,\n",
       "        -0.01621143,  0.03813554,  0.03647986, -0.49294082,  1.83320914,\n",
       "        -0.45124263, -0.13840913,  0.38924947, -1.95866374, -0.34299717,\n",
       "        -0.23570226, -0.73926425, -0.73926425, -0.29277002,  0.51639778,\n",
       "         1.91485422, -0.44519456]])"
      ]
     },
     "execution_count": 6,
     "metadata": {},
     "output_type": "execute_result"
    }
   ],
   "source": [
    "preinput"
   ]
  },
  {
   "cell_type": "code",
   "execution_count": 7,
   "id": "13c6c3c5-b065-469c-9d04-209c62e6b842",
   "metadata": {
    "scrolled": true
   },
   "outputs": [
    {
     "ename": "AttributeError",
     "evalue": "'list' object has no attribute 'predict'",
     "output_type": "error",
     "traceback": [
      "\u001b[1;31m---------------------------------------------------------------------------\u001b[0m",
      "\u001b[1;31mAttributeError\u001b[0m                            Traceback (most recent call last)",
      "Cell \u001b[1;32mIn[7], line 4\u001b[0m\n\u001b[0;32m      2\u001b[0m loaded_model\u001b[38;5;241m=\u001b[39m pickle\u001b[38;5;241m.\u001b[39mload(\u001b[38;5;28mopen\u001b[39m(\u001b[38;5;124m\"\u001b[39m\u001b[38;5;124mFinalized_model_Gridsearchcv_Assignment_Classification_svr.sav\u001b[39m\u001b[38;5;124m\"\u001b[39m,\u001b[38;5;124m'\u001b[39m\u001b[38;5;124mrb\u001b[39m\u001b[38;5;124m'\u001b[39m))\n\u001b[0;32m      3\u001b[0m \u001b[38;5;66;03m#grid=pickle.load(open(\"Finalized_model_Gridsearchcv_Assignment_Classification_svr.sav\",'rb'))\u001b[39;00m\n\u001b[1;32m----> 4\u001b[0m result\u001b[38;5;241m=\u001b[39m loaded_model\u001b[38;5;241m.\u001b[39mpredict(preinput)\n",
      "\u001b[1;31mAttributeError\u001b[0m: 'list' object has no attribute 'predict'"
     ]
    }
   ],
   "source": [
    "pickle.dump(([sc, scy]),(open(filename2,'wb')))\n",
    "loaded_model= pickle.load(open(\"Finalized_model_Gridsearchcv_Assignment_Classification_svr.sav\",'rb'))\n",
    "#grid=pickle.load(open(\"Finalized_model_Gridsearchcv_Assignment_Classification_svr.sav\",'rb'))\n",
    "result= loaded_model.predict(preinput)"
   ]
  },
  {
   "cell_type": "code",
   "execution_count": null,
   "id": "f11d8c9a-2f90-4447-bb6e-d6b93ba34268",
   "metadata": {},
   "outputs": [],
   "source": [
    "result"
   ]
  },
  {
   "cell_type": "code",
   "execution_count": null,
   "id": "a5ce2300-9f26-44e0-b967-38dd1b257c30",
   "metadata": {},
   "outputs": [],
   "source": []
  },
  {
   "cell_type": "code",
   "execution_count": 8,
   "id": "dfa8feb6-3bb9-4bec-8e04-542c8891e9c5",
   "metadata": {},
   "outputs": [
    {
     "ename": "NameError",
     "evalue": "name 'result' is not defined",
     "output_type": "error",
     "traceback": [
      "\u001b[1;31m---------------------------------------------------------------------------\u001b[0m",
      "\u001b[1;31mNameError\u001b[0m                                 Traceback (most recent call last)",
      "Cell \u001b[1;32mIn[8], line 1\u001b[0m\n\u001b[1;32m----> 1\u001b[0m preoutput\u001b[38;5;241m=\u001b[39mscy\u001b[38;5;241m.\u001b[39minverse_transform([result])\n",
      "\u001b[1;31mNameError\u001b[0m: name 'result' is not defined"
     ]
    }
   ],
   "source": [
    "preoutput=scy.inverse_transform([result])"
   ]
  },
  {
   "cell_type": "code",
   "execution_count": null,
   "id": "34c0c577-9f5c-45e8-b3bc-a520e422cc65",
   "metadata": {},
   "outputs": [],
   "source": [
    "preoutput"
   ]
  }
 ],
 "metadata": {
  "kernelspec": {
   "display_name": "Python 3 (ipykernel)",
   "language": "python",
   "name": "python3"
  },
  "language_info": {
   "codemirror_mode": {
    "name": "ipython",
    "version": 3
   },
   "file_extension": ".py",
   "mimetype": "text/x-python",
   "name": "python",
   "nbconvert_exporter": "python",
   "pygments_lexer": "ipython3",
   "version": "3.12.4"
  }
 },
 "nbformat": 4,
 "nbformat_minor": 5
}
